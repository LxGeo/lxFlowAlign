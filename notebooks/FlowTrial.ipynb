{
 "cells": [
  {
   "cell_type": "code",
   "execution_count": 1,
   "id": "aacabcaa",
   "metadata": {},
   "outputs": [],
   "source": [
    "import rasterio as rio\n",
    "from rasterio.features import rasterize\n",
    "from rasterio.windows import Window\n",
    "import numpy as np\n",
    "import geopandas as gpd\n",
    "from shapely.geometry import box\n",
    "import sys,os\n",
    "import concurrent.futures\n",
    "from rasterio import windows\n",
    "from ezflow.models import build_model\n",
    "from ezflow.models import get_default_model_cfg\n",
    "from matplotlib import pyplot as plt\n",
    "import torch \n"
   ]
  },
  {
   "cell_type": "code",
   "execution_count": 2,
   "id": "cd0fa55f",
   "metadata": {},
   "outputs": [],
   "source": [
    "def rasterize_from_profile(geometry_iter, c_profile, burn_value):\n",
    "    \"\"\"\n",
    "    rasterize shapes of geometry iterator using the background profile and the burn value.\n",
    "    returns a numpy array of raster\n",
    "    \"\"\"\n",
    "    out_raster = rasterize(geometry_iter,\n",
    "                     (c_profile[\"height\"], c_profile[\"width\"]),\n",
    "                     fill=0,\n",
    "                     transform=c_profile[\"transform\"],\n",
    "                     all_touched=True,\n",
    "                     default_value=burn_value,\n",
    "                     dtype=c_profile[\"dtype\"])\n",
    "    return out_raster\n",
    "\n",
    "def rasterize_gdf(gdf, input_profile, burn_column=\"b_val\"):\n",
    "    \"\"\"\n",
    "    Inputs:\n",
    "        gdf: geodataframe of geometries with burn value at column burn_column\n",
    "        rio_dataset: rasterio dataset of refrence (background) image\n",
    "        burn_column: column name in shapefile representing burning values\n",
    "    \"\"\"\n",
    "            \n",
    "    new_profile = input_profile\n",
    "            \n",
    "    rasterization_images=[]\n",
    "    \n",
    "    if (not (burn_column in gdf.columns)):\n",
    "        single_rasterization= rasterize_from_profile(gdf.geometry, new_profile, 1)\n",
    "        rasterization_images.append(single_rasterization)\n",
    "        \n",
    "    else:\n",
    "        burning_values=np.sort(gdf[burn_column].unique())\n",
    "        for c_burn_value in burning_values:\n",
    "            c_burn_gdf_view = gdf[gdf[burn_column]==c_burn_value]\n",
    "            single_rasterization = rasterize_from_profile(c_burn_gdf_view.geometry, new_profile, c_burn_value)\n",
    "            rasterization_images.append(single_rasterization)\n",
    "    return np.max(rasterization_images, axis=0)\n",
    "\n",
    "def rasterize_view(args):\n",
    "    \"\"\"\n",
    "    Runs rasterization on a windowed view\n",
    "    \"\"\"\n",
    "    geometry_view, shapes_gdf, profile, burn_column = args\n",
    "    view_gdf = gpd.GeoDataFrame(geometry=[geometry_view], crs=shapes_gdf.crs)\n",
    "    gdf_view = gpd.overlay(shapes_gdf, view_gdf, \"intersection\")\n",
    "    if (len(gdf_view)>0):\n",
    "        return rasterize_gdf(gdf_view, profile, burn_column)\n",
    "    else:\n",
    "        return np.zeros((profile[\"height\"], profile[\"width\"]), dtype=profile[\"dtype\"])\n",
    "\n",
    "def parralel_rasterization(shapes_gdf, output_dst, burn_column):\n",
    "    \"\"\"\n",
    "    Split rasterization process\n",
    "    Inputs:\n",
    "        shapes_gdf: geodataframe of all features\n",
    "        output_dst: output rio dataset to fill\n",
    "        burn_column: str defining burn column in shapes_gdf\n",
    "    \"\"\"\n",
    "    \n",
    "    windows_list = [window for ij, window in output_dst.block_windows()]\n",
    "    window_geometries = [ box(*windows.bounds(c_window,output_dst.transform)) for c_window in windows_list]\n",
    "            \n",
    "    # windows.transform(c_window,output_dst.transform)\n",
    "    concurrent_args = []\n",
    "    for c_window, c_window_geometrie in zip(windows_list, window_geometries):\n",
    "        c_profile = output_dst.profile.copy()\n",
    "        c_profile.update( \n",
    "            height=c_window.height,\n",
    "            width=c_window.width,\n",
    "            transform = windows.transform(c_window,output_dst.transform)\n",
    "            )\n",
    "        concurrent_args.append( (c_window_geometrie, shapes_gdf, c_profile, burn_column) )\n",
    "    \n",
    "    with concurrent.futures.ProcessPoolExecutor(\n",
    "            max_workers=8\n",
    "        ) as executor:\n",
    "        futures = executor.map(rasterize_view, concurrent_args)\n",
    "        for window, result in zip(windows_list, futures):\n",
    "            output_dst.write(result,1, window=window)\n",
    "        "
   ]
  },
  {
   "cell_type": "markdown",
   "id": "9e1939c3",
   "metadata": {},
   "source": [
    "### Input data def"
   ]
  },
  {
   "cell_type": "code",
   "execution_count": 3,
   "id": "76ef9bee",
   "metadata": {},
   "outputs": [],
   "source": [
    "input_shapefile_1 = \"C:/DATA_SANDBOX/Alignment2/MOURMELON/OSM_data/MOURMELON_osm_polys_polygons.shp\"\n",
    "input_shapefile_2 = \"C:/DATA_SANDBOX/Alignment2/MOURMELON/17MAY17110802/17MAY17110802_bativec.shp\""
   ]
  },
  {
   "cell_type": "code",
   "execution_count": 4,
   "id": "12318310",
   "metadata": {},
   "outputs": [],
   "source": [
    "# Load shapefile\n",
    "in_gdf_1 = gpd.read_file(input_shapefile_1)\n",
    "in_gdf_2 = gpd.read_file(input_shapefile_2)\n",
    "assert in_gdf_1.crs == in_gdf_2.crs, \"Input shapefiles must share the same crs\""
   ]
  },
  {
   "cell_type": "code",
   "execution_count": 5,
   "id": "6e4b51bc",
   "metadata": {},
   "outputs": [],
   "source": [
    "# compute common extents\n",
    "gdf_1_box = box(*in_gdf_1.total_bounds)\n",
    "gdf_2_box = box(*in_gdf_2.total_bounds)\n",
    "\n",
    "common_extent = (gdf_1_box.union(gdf_2_box)).bounds"
   ]
  },
  {
   "cell_type": "code",
   "execution_count": 6,
   "id": "ca4fdec5",
   "metadata": {},
   "outputs": [],
   "source": [
    "def extents_to_profile(extent, gsd=0.5, **kwargs):\n",
    "    \n",
    "    in_height = round((extent[2]-extent[0])/gsd)\n",
    "    in_width = round((extent[3]-extent[1])/gsd)\n",
    "    in_transform = rio.transform.from_origin(extent[0], extent[-1], gsd,gsd)\n",
    "    rasterization_profile = {\n",
    "    \"driver\": \"GTiff\", \"count\":1, \"height\": in_height, \"width\":in_width,\n",
    "    \"dtype\":rio.uint8, \"transform\":in_transform\n",
    "    }\n",
    "    rasterization_profile.update(kwargs)\n",
    "    return rasterization_profile"
   ]
  },
  {
   "cell_type": "code",
   "execution_count": 7,
   "id": "eab2bc8f",
   "metadata": {},
   "outputs": [],
   "source": [
    "rasterized_profile = extents_to_profile(common_extent, crs=in_gdf_1.crs)"
   ]
  },
  {
   "cell_type": "code",
   "execution_count": null,
   "id": "6f5731c0",
   "metadata": {},
   "outputs": [],
   "source": [
    "rasterized_shp1 = rasterize_from_profile(in_gdf_1.geometry, rasterized_profile, 1)\n",
    "rasterized_shp2 = rasterize_from_profile(in_gdf_2.geometry, rasterized_profile, 1)"
   ]
  },
  {
   "cell_type": "code",
   "execution_count": null,
   "id": "24a45ac4",
   "metadata": {},
   "outputs": [],
   "source": [
    "offset_x=1200\n",
    "offset_y=1200\n",
    "patch_size=256\n",
    "s1 = rasterized_shp1[offset_x:offset_x+patch_size, offset_y:offset_y+patch_size]\n",
    "s2 = rasterized_shp2[offset_x:offset_x+patch_size, offset_y:offset_y+patch_size]\n",
    "\n",
    "s1 = torch.Tensor(s1)\n",
    "s2 = torch.Tensor(s2)\n",
    "\n",
    "s1=s1.repeat(3,1,1)\n",
    "s2=s2.repeat(3,1,1)\n",
    "\n",
    "#s1 = s1.permute(1,2,0)\n",
    "#s2 = s2.permute(1,2,0)"
   ]
  },
  {
   "cell_type": "code",
   "execution_count": null,
   "id": "b2ba5567",
   "metadata": {},
   "outputs": [],
   "source": [
    "raft_cfg = get_default_model_cfg(\"RAFT\")\n",
    "raft_cfg.ENCODER.CORR_RADIUS = 5\n",
    "model = build_model(\"RAFT\", cfg=raft_cfg)"
   ]
  },
  {
   "cell_type": "code",
   "execution_count": null,
   "id": "e364d02a",
   "metadata": {},
   "outputs": [],
   "source": [
    "model = build_model(\"FlowNetC\", default=True)"
   ]
  },
  {
   "cell_type": "code",
   "execution_count": null,
   "id": "aeb37a21",
   "metadata": {},
   "outputs": [],
   "source": [
    "model.forward(s1,s2)"
   ]
  },
  {
   "cell_type": "code",
   "execution_count": null,
   "id": "2cae7ddb",
   "metadata": {},
   "outputs": [],
   "source": [
    "s1_p= \"C:/Users/cherif/Downloads/Sampler.tar/Sampler/Driving/RGB_cleanpass/left/0400.png\"\n",
    "s2_p= \"C:/Users/cherif/Downloads/Sampler.tar/Sampler/Driving/RGB_cleanpass/right/0400.png\""
   ]
  },
  {
   "cell_type": "code",
   "execution_count": null,
   "id": "cac34c64",
   "metadata": {},
   "outputs": [],
   "source": [
    "import ezflow\n",
    "ezflow.__version__"
   ]
  },
  {
   "cell_type": "code",
   "execution_count": null,
   "id": "e20c18ea",
   "metadata": {},
   "outputs": [],
   "source": [
    "from ezflow.models import Predictor\n",
    "from torchvision.transforms import Resize\n",
    "\n",
    "predictor = Predictor(\"RAFT\", default=True,\n",
    "    data_transform=Resize((256, 256))\n",
    ")\n",
    "flow = predictor(s1_p, s2_p)"
   ]
  }
 ],
 "metadata": {
  "kernelspec": {
   "display_name": "lxFlowAlign-env",
   "language": "python",
   "name": "lxflowalign-env"
  },
  "language_info": {
   "codemirror_mode": {
    "name": "ipython",
    "version": 3
   },
   "file_extension": ".py",
   "mimetype": "text/x-python",
   "name": "python",
   "nbconvert_exporter": "python",
   "pygments_lexer": "ipython3",
   "version": "3.7.12"
  }
 },
 "nbformat": 4,
 "nbformat_minor": 5
}
